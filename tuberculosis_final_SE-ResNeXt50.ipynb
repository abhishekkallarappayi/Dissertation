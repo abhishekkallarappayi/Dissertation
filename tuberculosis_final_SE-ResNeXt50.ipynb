{
  "nbformat": 4,
  "nbformat_minor": 0,
  "metadata": {
    "colab": {
      "provenance": [],
      "include_colab_link": true
    },
    "kernelspec": {
      "name": "python3",
      "display_name": "Python 3"
    },
    "language_info": {
      "name": "python"
    },
    "accelerator": "GPU"
  },
  "cells": [
    {
      "cell_type": "markdown",
      "metadata": {
        "id": "view-in-github",
        "colab_type": "text"
      },
      "source": [
        "<a href=\"https://colab.research.google.com/github/abhishekkallarappayi/Dissertation/blob/main/tuberculosis_final_SE-ResNeXt50.ipynb\" target=\"_parent\"><img src=\"https://colab.research.google.com/assets/colab-badge.svg\" alt=\"Open In Colab\"/></a>"
      ]
    },
    {
      "cell_type": "markdown",
      "source": [
        "Tuberculosis Dataset"
      ],
      "metadata": {
        "id": "ubIuTQdQnzd2"
      }
    },
    {
      "cell_type": "markdown",
      "source": [],
      "metadata": {
        "id": "d-8bD4rNnxjh"
      }
    },
    {
      "cell_type": "code",
      "source": [
        "!pip install keras_applications\n",
        "!pip install keras_preprocessing\n",
        "!pip install image-classifiers"
      ],
      "metadata": {
        "colab": {
          "base_uri": "https://localhost:8080/"
        },
        "id": "UYzbT8wKd9k9",
        "outputId": "1b81e057-9857-4445-ae88-57f938e1cd72"
      },
      "execution_count": 1,
      "outputs": [
        {
          "output_type": "stream",
          "name": "stdout",
          "text": [
            "Looking in indexes: https://pypi.org/simple, https://us-python.pkg.dev/colab-wheels/public/simple/\n",
            "Collecting keras_applications\n",
            "  Downloading Keras_Applications-1.0.8-py3-none-any.whl (50 kB)\n",
            "\u001b[K     |████████████████████████████████| 50 kB 4.4 MB/s \n",
            "\u001b[?25hRequirement already satisfied: numpy>=1.9.1 in /usr/local/lib/python3.8/dist-packages (from keras_applications) (1.21.6)\n",
            "Requirement already satisfied: h5py in /usr/local/lib/python3.8/dist-packages (from keras_applications) (3.1.0)\n",
            "Installing collected packages: keras-applications\n",
            "Successfully installed keras-applications-1.0.8\n",
            "Looking in indexes: https://pypi.org/simple, https://us-python.pkg.dev/colab-wheels/public/simple/\n",
            "Requirement already satisfied: keras_preprocessing in /usr/local/lib/python3.8/dist-packages (1.1.2)\n",
            "Requirement already satisfied: six>=1.9.0 in /usr/local/lib/python3.8/dist-packages (from keras_preprocessing) (1.15.0)\n",
            "Requirement already satisfied: numpy>=1.9.1 in /usr/local/lib/python3.8/dist-packages (from keras_preprocessing) (1.21.6)\n",
            "Looking in indexes: https://pypi.org/simple, https://us-python.pkg.dev/colab-wheels/public/simple/\n",
            "Collecting image-classifiers\n",
            "  Downloading image_classifiers-1.0.0-py3-none-any.whl (19 kB)\n",
            "Requirement already satisfied: keras-applications<=1.0.8,>=1.0.7 in /usr/local/lib/python3.8/dist-packages (from image-classifiers) (1.0.8)\n",
            "Requirement already satisfied: h5py in /usr/local/lib/python3.8/dist-packages (from keras-applications<=1.0.8,>=1.0.7->image-classifiers) (3.1.0)\n",
            "Requirement already satisfied: numpy>=1.9.1 in /usr/local/lib/python3.8/dist-packages (from keras-applications<=1.0.8,>=1.0.7->image-classifiers) (1.21.6)\n",
            "Installing collected packages: image-classifiers\n",
            "Successfully installed image-classifiers-1.0.0\n"
          ]
        }
      ]
    },
    {
      "cell_type": "code",
      "execution_count": 2,
      "metadata": {
        "id": "Q1LUDypCAPo_"
      },
      "outputs": [],
      "source": [
        "mkdir /root/.kaggle/"
      ]
    },
    {
      "cell_type": "code",
      "source": [
        "mv /kaggle.json /root/.kaggle"
      ],
      "metadata": {
        "id": "w_9uXmjxARav"
      },
      "execution_count": 3,
      "outputs": []
    },
    {
      "cell_type": "code",
      "source": [
        "ls -a /root/.kaggle"
      ],
      "metadata": {
        "id": "iYMoXeaScOUm",
        "colab": {
          "base_uri": "https://localhost:8080/"
        },
        "outputId": "89be8c4b-8aaa-4564-f104-7e1c3085abeb"
      },
      "execution_count": 4,
      "outputs": [
        {
          "output_type": "stream",
          "name": "stdout",
          "text": [
            "\u001b[0m\u001b[01;34m.\u001b[0m/  \u001b[01;34m..\u001b[0m/  kaggle.json\n"
          ]
        }
      ]
    },
    {
      "cell_type": "code",
      "source": [
        "! kaggle datasets download 'tawsifurrahman/tuberculosis-tb-chest-xray-dataset/code?datasetId=891819&sortBy=voteCount'"
      ],
      "metadata": {
        "colab": {
          "base_uri": "https://localhost:8080/"
        },
        "id": "HqSrKac3Ajsg",
        "outputId": "1ec35333-e13a-4cab-e0e7-8df5f4bc9e25"
      },
      "execution_count": 5,
      "outputs": [
        {
          "output_type": "stream",
          "name": "stdout",
          "text": [
            "Warning: Your Kaggle API key is readable by other users on this system! To fix this, you can run 'chmod 600 /root/.kaggle/kaggle.json'\n",
            "Downloading tuberculosis-tb-chest-xray-dataset.zip to /content\n",
            " 99% 660M/663M [00:05<00:00, 183MB/s]\n",
            "100% 663M/663M [00:05<00:00, 122MB/s]\n"
          ]
        }
      ]
    },
    {
      "cell_type": "code",
      "source": [
        "import zipfile\n",
        "import os\n",
        "import matplotlib.pyplot as plt\n",
        "from pathlib import Path\n",
        "import pandas as pd\n",
        "import numpy as np\n",
        "import tensorflow as tf\n",
        "from tensorflow import keras\n",
        "from tqdm import tqdm\n",
        "import cv2\n",
        "from keras.utils.np_utils import to_categorical\n",
        "from imblearn.over_sampling import SMOTE\n",
        "from sklearn.model_selection import train_test_split\n",
        "from keras import  layers, models\n",
        "\n",
        "import itertools\n",
        "import matplotlib.pyplot as plt\n",
        "import numpy as np\n",
        "from sklearn.metrics import confusion_matrix\n",
        "\n",
        "import keras\n",
        "from classification_models.tfkeras import Classifiers\n",
        "\n",
        "from google.colab import drive,files"
      ],
      "metadata": {
        "id": "-YLSyU2vcUBz"
      },
      "execution_count": 6,
      "outputs": []
    },
    {
      "cell_type": "code",
      "source": [
        "\n",
        "zipref=zipfile.ZipFile('/content/tuberculosis-tb-chest-xray-dataset.zip')"
      ],
      "metadata": {
        "id": "mKo3xzPAAmyH"
      },
      "execution_count": 7,
      "outputs": []
    },
    {
      "cell_type": "code",
      "source": [
        "zipref.extractall(path=\"/content/\")"
      ],
      "metadata": {
        "id": "z29NS7obAsTC"
      },
      "execution_count": 8,
      "outputs": []
    },
    {
      "cell_type": "code",
      "source": [
        "\n",
        "count=[]\n",
        "names=[]\n",
        "for root,dirname,file_name in os.walk('/content/TB_Chest_Radiography_Database/'):\n",
        "  print(f'There are {len(file_name)} files in {root}')\n",
        "  names.extend(dirname)\n",
        "  count.append(len(file_name))\n",
        "names=[x for x in names if x]\n",
        "\n",
        "plt.title(\"Train Data\")\n",
        "plt.bar(names,count[1:],color=\"yb\")"
      ],
      "metadata": {
        "colab": {
          "base_uri": "https://localhost:8080/",
          "height": 405
        },
        "id": "c0vq8-l4AxY2",
        "outputId": "afc2f7d1-9fe5-49a7-8765-80d93a963561"
      },
      "execution_count": 9,
      "outputs": [
        {
          "output_type": "stream",
          "name": "stdout",
          "text": [
            "There are 3 files in /content/TB_Chest_Radiography_Database/\n",
            "There are 700 files in /content/TB_Chest_Radiography_Database/Tuberculosis\n",
            "There are 3500 files in /content/TB_Chest_Radiography_Database/Normal\n"
          ]
        },
        {
          "output_type": "stream",
          "name": "stderr",
          "text": [
            "<ipython-input-9-41ffebb7d800>:10: MatplotlibDeprecationWarning: Using a string of single character colors as a color sequence is deprecated. Use an explicit list instead.\n",
            "  plt.bar(names,count[1:],color=\"yb\")\n"
          ]
        },
        {
          "output_type": "execute_result",
          "data": {
            "text/plain": [
              "<BarContainer object of 2 artists>"
            ]
          },
          "metadata": {},
          "execution_count": 9
        },
        {
          "output_type": "display_data",
          "data": {
            "text/plain": [
              "<Figure size 432x288 with 1 Axes>"
            ],
            "image/png": "[encoded data removed]"
          },
          "metadata": {
            "needs_background": "light"
          }
        }
      ]
    },
    {
      "cell_type": "code",
      "source": [
        "\n",
        "normal_path = '/content/TB_Chest_Radiography_Database/Normal'\n",
        "tuberculosis_path = '/content/TB_Chest_Radiography_Database/Tuberculosis'\n",
        "normal_images=Path(normal_path).glob('*.png')\n",
        "tuberculosis_images=Path(tuberculosis_path).glob('*.png')\n",
        "train_data=[]\n",
        "for img in normal_images:\n",
        "    train_data.append((img,0))\n",
        "for img in tuberculosis_images:\n",
        "    train_data.append((img, 1))\n",
        "train_data = pd.DataFrame(train_data, columns=['image', 'label'],index=None)\n",
        "train_data = train_data.sample(frac=1.).reset_index(drop=True)\n",
        "train_data"
      ],
      "metadata": {
        "colab": {
          "base_uri": "https://localhost:8080/",
          "height": 424
        },
        "id": "jLzwiP4tCBUP",
        "outputId": "3f02bde2-2f31-4e4f-c96b-64757e1cb1d4"
      },
      "execution_count": 10,
      "outputs": [
        {
          "output_type": "execute_result",
          "data": {
            "text/plain": [
              "                                                  image  label\n",
              "0     /content/TB_Chest_Radiography_Database/Tubercu...      1\n",
              "1     /content/TB_Chest_Radiography_Database/Normal/...      0\n",
              "2     /content/TB_Chest_Radiography_Database/Normal/...      0\n",
              "3     /content/TB_Chest_Radiography_Database/Normal/...      0\n",
              "4     /content/TB_Chest_Radiography_Database/Normal/...      0\n",
              "...                                                 ...    ...\n",
              "4195  /content/TB_Chest_Radiography_Database/Normal/...      0\n",
              "4196  /content/TB_Chest_Radiography_Database/Normal/...      0\n",
              "4197  /content/TB_Chest_Radiography_Database/Normal/...      0\n",
              "4198  /content/TB_Chest_Radiography_Database/Tubercu...      1\n",
              "4199  /content/TB_Chest_Radiography_Database/Normal/...      0\n",
              "\n",
              "[4200 rows x 2 columns]"
            ],
            "text/html": [
              "\n",
              "  <div id=\"df-00485313-e7c2-4e11-85e6-3b83a61632ec\">\n",
              "    <div class=\"colab-df-container\">\n",
              "      <div>\n",
              "<style scoped>\n",
              "    .dataframe tbody tr th:only-of-type {\n",
              "        vertical-align: middle;\n",
              "    }\n",
              "\n",
              "    .dataframe tbody tr th {\n",
              "        vertical-align: top;\n",
              "    }\n",
              "\n",
              "    .dataframe thead th {\n",
              "        text-align: right;\n",
              "    }\n",
              "</style>\n",
              "<table border=\"1\" class=\"dataframe\">\n",
              "  <thead>\n",
              "    <tr style=\"text-align: right;\">\n",
              "      <th></th>\n",
              "      <th>image</th>\n",
              "      <th>label</th>\n",
              "    </tr>\n",
              "  </thead>\n",
              "  <tbody>\n",
              "    <tr>\n",
              "      <th>0</th>\n",
              "      <td>/content/TB_Chest_Radiography_Database/Tubercu...</td>\n",
              "      <td>1</td>\n",
              "    </tr>\n",
              "    <tr>\n",
              "      <th>1</th>\n",
              "      <td>/content/TB_Chest_Radiography_Database/Normal/...</td>\n",
              "      <td>0</td>\n",
              "    </tr>\n",
              "    <tr>\n",
              "      <th>2</th>\n",
              "      <td>/content/TB_Chest_Radiography_Database/Normal/...</td>\n",
              "      <td>0</td>\n",
              "    </tr>\n",
              "    <tr>\n",
              "      <th>3</th>\n",
              "      <td>/content/TB_Chest_Radiography_Database/Normal/...</td>\n",
              "      <td>0</td>\n",
              "    </tr>\n",
              "    <tr>\n",
              "      <th>4</th>\n",
              "      <td>/content/TB_Chest_Radiography_Database/Normal/...</td>\n",
              "      <td>0</td>\n",
              "    </tr>\n",
              "    <tr>\n",
              "      <th>...</th>\n",
              "      <td>...</td>\n",
              "      <td>...</td>\n",
              "    </tr>\n",
              "    <tr>\n",
              "      <th>4195</th>\n",
              "      <td>/content/TB_Chest_Radiography_Database/Normal/...</td>\n",
              "      <td>0</td>\n",
              "    </tr>\n",
              "    <tr>\n",
              "      <th>4196</th>\n",
              "      <td>/content/TB_Chest_Radiography_Database/Normal/...</td>\n",
              "      <td>0</td>\n",
              "    </tr>\n",
              "    <tr>\n",
              "      <th>4197</th>\n",
              "      <td>/content/TB_Chest_Radiography_Database/Normal/...</td>\n",
              "      <td>0</td>\n",
              "    </tr>\n",
              "    <tr>\n",
              "      <th>4198</th>\n",
              "      <td>/content/TB_Chest_Radiography_Database/Tubercu...</td>\n",
              "      <td>1</td>\n",
              "    </tr>\n",
              "    <tr>\n",
              "      <th>4199</th>\n",
              "      <td>/content/TB_Chest_Radiography_Database/Normal/...</td>\n",
              "      <td>0</td>\n",
              "    </tr>\n",
              "  </tbody>\n",
              "</table>\n",
              "<p>4200 rows × 2 columns</p>\n",
              "</div>\n",
              "      <button class=\"colab-df-convert\" onclick=\"convertToInteractive('df-00485313-e7c2-4e11-85e6-3b83a61632ec')\"\n",
              "              title=\"Convert this dataframe to an interactive table.\"\n",
              "              style=\"display:none;\">\n",
              "        \n",
              "  <svg xmlns=\"http://www.w3.org/2000/svg\" height=\"24px\"viewBox=\"0 0 24 24\"\n",
              "       width=\"24px\">\n",
              "    <path d=\"M0 0h24v24H0V0z\" fill=\"none\"/>\n",
              "    <path d=\"M18.56 5.44l.94 2.06.94-2.06 2.06-.94-2.06-.94-.94-2.06-.94 2.06-2.06.94zm-11 1L8.5 8.5l.94-2.06 2.06-.94-2.06-.94L8.5 2.5l-.94 2.06-2.06.94zm10 10l.94 2.06.94-2.06 2.06-.94-2.06-.94-.94-2.06-.94 2.06-2.06.94z\"/><path d=\"M17.41 7.96l-1.37-1.37c-.4-.4-.92-.59-1.43-.59-.52 0-1.04.2-1.43.59L10.3 9.45l-7.72 7.72c-.78.78-.78 2.05 0 2.83L4 21.41c.39.39.9.59 1.41.59.51 0 1.02-.2 1.41-.59l7.78-7.78 2.81-2.81c.8-.78.8-2.07 0-2.86zM5.41 20L4 18.59l7.72-7.72 1.47 1.35L5.41 20z\"/>\n",
              "  </svg>\n",
              "      </button>\n",
              "      \n",
              "  <style>\n",
              "    .colab-df-container {\n",
              "      display:flex;\n",
              "      flex-wrap:wrap;\n",
              "      gap: 12px;\n",
              "    }\n",
              "\n",
              "    .colab-df-convert {\n",
              "      background-color: #E8F0FE;\n",
              "      border: none;\n",
              "      border-radius: 50%;\n",
              "      cursor: pointer;\n",
              "      display: none;\n",
              "      fill: #1967D2;\n",
              "      height: 32px;\n",
              "      padding: 0 0 0 0;\n",
              "      width: 32px;\n",
              "    }\n",
              "\n",
              "    .colab-df-convert:hover {\n",
              "      background-color: #E2EBFA;\n",
              "      box-shadow: 0px 1px 2px rgba(60, 64, 67, 0.3), 0px 1px 3px 1px rgba(60, 64, 67, 0.15);\n",
              "      fill: #174EA6;\n",
              "    }\n",
              "\n",
              "    [theme=dark] .colab-df-convert {\n",
              "      background-color: #3B4455;\n",
              "      fill: #D2E3FC;\n",
              "    }\n",
              "\n",
              "    [theme=dark] .colab-df-convert:hover {\n",
              "      background-color: #434B5C;\n",
              "      box-shadow: 0px 1px 3px 1px rgba(0, 0, 0, 0.15);\n",
              "      filter: drop-shadow(0px 1px 2px rgba(0, 0, 0, 0.3));\n",
              "      fill: #FFFFFF;\n",
              "    }\n",
              "  </style>\n",
              "\n",
              "      <script>\n",
              "        const buttonEl =\n",
              "          document.querySelector('#df-00485313-e7c2-4e11-85e6-3b83a61632ec button.colab-df-convert');\n",
              "        buttonEl.style.display =\n",
              "          google.colab.kernel.accessAllowed ? 'block' : 'none';\n",
              "\n",
              "        async function convertToInteractive(key) {\n",
              "          const element = document.querySelector('#df-00485313-e7c2-4e11-85e6-3b83a61632ec');\n",
              "          const dataTable =\n",
              "            await google.colab.kernel.invokeFunction('convertToInteractive',\n",
              "                                                     [key], {});\n",
              "          if (!dataTable) return;\n",
              "\n",
              "          const docLinkHtml = 'Like what you see? Visit the ' +\n",
              "            '<a target=\"_blank\" href=https://colab.research.google.com/notebooks/data_table.ipynb>data table notebook</a>'\n",
              "            + ' to learn more about interactive tables.';\n",
              "          element.innerHTML = '';\n",
              "          dataTable['output_type'] = 'display_data';\n",
              "          await google.colab.output.renderOutput(dataTable, element);\n",
              "          const docLink = document.createElement('div');\n",
              "          docLink.innerHTML = docLinkHtml;\n",
              "          element.appendChild(docLink);\n",
              "        }\n",
              "      </script>\n",
              "    </div>\n",
              "  </div>\n",
              "  "
            ]
          },
          "metadata": {},
          "execution_count": 10
        }
      ]
    },
    {
      "cell_type": "code",
      "source": [
        "\n",
        "normal_images=Path(normal_path).glob('*.png')\n",
        "tuberculosis_images=Path(tuberculosis_path).glob('*.png')\n",
        "\n",
        "\n",
        "normal_path = '/content/TB_Chest_Radiography_Database/Normal'\n",
        "tuberculosis_path = '/content/TB_Chest_Radiography_Database/Tuberculosis'\n",
        "\n",
        "# Get the list of all the images\n",
        "normal_cases = Path(normal_path).glob('*.png')\n",
        "Tuberculosis_cases =Path(tuberculosis_path).glob('*.png')\n",
        "train_data = []\n",
        "train_labels = []\n",
        "\n",
        "\n",
        "\n",
        "\n",
        "for img in tqdm(normal_cases):\n",
        "    img = cv2.imread(str(img))\n",
        "    img = cv2.resize(img, (28,28))\n",
        "    if img.shape[2] ==1:\n",
        "        img = np.dstack([img, img, img])\n",
        "    img = cv2.cvtColor(img, cv2.COLOR_BGR2RGB)\n",
        "    img=np.array(img)\n",
        "    img = img/255\n",
        "    label = 'normal'\n",
        "    train_data.append(img)\n",
        "    train_labels.append(label)\n",
        "                      \n",
        "# Tuberculosis cases        \n",
        "for img in tqdm(Tuberculosis_cases):\n",
        "    img = cv2.imread(str(img))\n",
        "    img = cv2.resize(img, (28,28))\n",
        "    if img.shape[2] ==1:\n",
        "        img = np.dstack([img, img, img])\n",
        "    img = cv2.cvtColor(img, cv2.COLOR_BGR2RGB)\n",
        "    img=np.array(img)\n",
        "    img = img/255\n",
        "    label = 'Tuberculosis'\n",
        "    train_data.append(img)\n",
        "    train_labels.append(label)\n",
        "    \n",
        "# Convert the list into numpy arrays\n",
        "\n",
        "train_data1 = np.array(train_data)\n",
        "train_labels1 = np.array(train_labels)\n",
        "\n",
        "print(\"Total number of validation examples: \", train_data1.shape)\n",
        "print(\"Total number of labels:\", train_labels1.shape)"
      ],
      "metadata": {
        "colab": {
          "base_uri": "https://localhost:8080/"
        },
        "id": "VmBlBOkmHi0t",
        "outputId": "bffe4b0d-03a2-468b-c9a8-b996673b37e6"
      },
      "execution_count": 11,
      "outputs": [
        {
          "output_type": "stream",
          "name": "stderr",
          "text": [
            "3500it [00:37, 93.32it/s] \n",
            "700it [00:04, 154.33it/s]"
          ]
        },
        {
          "output_type": "stream",
          "name": "stdout",
          "text": [
            "Total number of validation examples:  (4200, 28, 28, 3)\n",
            "Total number of labels: (4200,)\n"
          ]
        },
        {
          "output_type": "stream",
          "name": "stderr",
          "text": [
            "\n"
          ]
        }
      ]
    },
    {
      "cell_type": "code",
      "source": [
        "train_labels1 = pd.DataFrame(train_labels1, columns=[ 'label'],index=None)\n",
        "train_labels1['label']=train_labels1['label'].map({'normal':0,'Tuberculosis':1})"
      ],
      "metadata": {
        "id": "3a1sK-NYM8xR"
      },
      "execution_count": 12,
      "outputs": []
    },
    {
      "cell_type": "code",
      "source": [
        "#train_labels1.shape\n",
        "train_data1.shape\n"
      ],
      "metadata": {
        "colab": {
          "base_uri": "https://localhost:8080/"
        },
        "id": "_LW3P83DNxyR",
        "outputId": "2831d4f6-9f56-4531-9341-84770fd1e335"
      },
      "execution_count": 13,
      "outputs": [
        {
          "output_type": "execute_result",
          "data": {
            "text/plain": [
              "(4200, 28, 28, 3)"
            ]
          },
          "metadata": {},
          "execution_count": 13
        }
      ]
    },
    {
      "cell_type": "markdown",
      "source": [
        "Implementing SMOTE"
      ],
      "metadata": {
        "id": "zwKW-jmunrMJ"
      }
    },
    {
      "cell_type": "code",
      "source": [
        "\n",
        "smote = SMOTE()\n",
        "train_rows=len(train_data1)\n",
        "train_data1 = train_data1.reshape(train_rows,-1)\n",
        "train_data2, train_labels2 = smote.fit_resample(train_data1, train_labels1)"
      ],
      "metadata": {
        "id": "br18_yQaNEeQ"
      },
      "execution_count": 14,
      "outputs": []
    },
    {
      "cell_type": "code",
      "source": [
        "labels=train_labels2['label'].value_counts()\n",
        "plt.title(\"Train Data\")\n",
        "plt.bar(labels.index,labels.values,color=\"yb\")\n",
        "plt.xticks(range(len(labels.index)), ['Normal', 'Pneumonia'])"
      ],
      "metadata": {
        "colab": {
          "base_uri": "https://localhost:8080/",
          "height": 388
        },
        "id": "kK97fpVKOqYw",
        "outputId": "392456a4-813c-43df-a965-1b01d12dba3c"
      },
      "execution_count": 15,
      "outputs": [
        {
          "output_type": "stream",
          "name": "stderr",
          "text": [
            "<ipython-input-15-310561ec95bd>:3: MatplotlibDeprecationWarning: Using a string of single character colors as a color sequence is deprecated. Use an explicit list instead.\n",
            "  plt.bar(labels.index,labels.values,color=\"yb\")\n"
          ]
        },
        {
          "output_type": "execute_result",
          "data": {
            "text/plain": [
              "([<matplotlib.axis.XTick at 0x7fdc770affa0>,\n",
              "  <matplotlib.axis.XTick at 0x7fdc770aff70>],\n",
              " [Text(0, 0, 'Normal'), Text(0, 0, 'Pneumonia')])"
            ]
          },
          "metadata": {},
          "execution_count": 15
        },
        {
          "output_type": "display_data",
          "data": {
            "text/plain": [
              "<Figure size 432x288 with 1 Axes>"
            ],
            "image/png": "[encoded data removed]"
          },
          "metadata": {
            "needs_background": "light"
          }
        }
      ]
    },
    {
      "cell_type": "code",
      "source": [
        "train_data2 =train_data2.reshape(-1,28,28,3)"
      ],
      "metadata": {
        "id": "Yb-g8ltQPc84"
      },
      "execution_count": 16,
      "outputs": []
    },
    {
      "cell_type": "code",
      "source": [
        "X_train, X_test, y_train, y_test = train_test_split(train_data2, train_labels2, test_size=0.13, random_state=42)"
      ],
      "metadata": {
        "id": "ccovA6tPPhtz"
      },
      "execution_count": 17,
      "outputs": []
    },
    {
      "cell_type": "code",
      "source": [
        "\n",
        "data_augmentation = keras.Sequential(\n",
        "  [\n",
        "    layers.RandomFlip(\"horizontal\",\n",
        "                      input_shape=(28,\n",
        "                                  28,\n",
        "                                  3)),\n",
        "    layers.RandomRotation(0.1),\n",
        "    layers.RandomZoom(0.1),\n",
        "      \n",
        "  ]\n",
        ")"
      ],
      "metadata": {
        "id": "Mz1NJMJmPkY7"
      },
      "execution_count": 18,
      "outputs": []
    },
    {
      "cell_type": "code",
      "source": [
        "model = models.Sequential([\n",
        "    data_augmentation,\n",
        "    layers.Conv2D(28, (3, 3), activation='relu', input_shape=(28, 28, 3)) ,\n",
        "    layers.MaxPooling2D((2, 2)),\n",
        "    layers.Conv2D(64, (3, 3), activation='relu'),\n",
        "    layers.MaxPooling2D((2, 2)),\n",
        "    layers.Conv2D(64, (3, 3), activation='relu')\n",
        "    \n",
        "])\n",
        "\n",
        "model.summary()"
      ],
      "metadata": {
        "colab": {
          "base_uri": "https://localhost:8080/"
        },
        "id": "esJvCxejP9pU",
        "outputId": "1a076ae5-f14b-451b-f1cd-0299b283a9ea"
      },
      "execution_count": 19,
      "outputs": [
        {
          "output_type": "stream",
          "name": "stdout",
          "text": [
            "Model: \"sequential_1\"\n",
            "_________________________________________________________________\n",
            " Layer (type)                Output Shape              Param #   \n",
            "=================================================================\n",
            " sequential (Sequential)     (None, 28, 28, 3)         0         \n",
            "                                                                 \n",
            " conv2d (Conv2D)             (None, 26, 26, 28)        784       \n",
            "                                                                 \n",
            " max_pooling2d (MaxPooling2D  (None, 13, 13, 28)       0         \n",
            " )                                                               \n",
            "                                                                 \n",
            " conv2d_1 (Conv2D)           (None, 11, 11, 64)        16192     \n",
            "                                                                 \n",
            " max_pooling2d_1 (MaxPooling  (None, 5, 5, 64)         0         \n",
            " 2D)                                                             \n",
            "                                                                 \n",
            " conv2d_2 (Conv2D)           (None, 3, 3, 64)          36928     \n",
            "                                                                 \n",
            "=================================================================\n",
            "Total params: 53,904\n",
            "Trainable params: 53,904\n",
            "Non-trainable params: 0\n",
            "_________________________________________________________________\n"
          ]
        }
      ]
    },
    {
      "cell_type": "code",
      "source": [
        "model.add(layers.Flatten())\n",
        "model.add(layers.Dense(640, activation='tanh'))\n",
        "model.add(layers.Dropout(0.5))\n",
        "model.add(layers.Dense(564, activation='tanh'))\n",
        "model.add(layers.Dropout(0.5))\n",
        "model.add(layers.Dense(64, activation='tanh'))\n",
        "model.add(layers.Dense(64, activation='sigmoid'))\n",
        "model.add(layers.Dense(2))\n",
        "model.summary()"
      ],
      "metadata": {
        "id": "D2H_2V07P-gI",
        "colab": {
          "base_uri": "https://localhost:8080/"
        },
        "outputId": "55b05048-9d51-4214-dbc4-bf7a28f3e97a"
      },
      "execution_count": 20,
      "outputs": [
        {
          "output_type": "stream",
          "name": "stdout",
          "text": [
            "Model: \"sequential_1\"\n",
            "_________________________________________________________________\n",
            " Layer (type)                Output Shape              Param #   \n",
            "=================================================================\n",
            " sequential (Sequential)     (None, 28, 28, 3)         0         \n",
            "                                                                 \n",
            " conv2d (Conv2D)             (None, 26, 26, 28)        784       \n",
            "                                                                 \n",
            " max_pooling2d (MaxPooling2D  (None, 13, 13, 28)       0         \n",
            " )                                                               \n",
            "                                                                 \n",
            " conv2d_1 (Conv2D)           (None, 11, 11, 64)        16192     \n",
            "                                                                 \n",
            " max_pooling2d_1 (MaxPooling  (None, 5, 5, 64)         0         \n",
            " 2D)                                                             \n",
            "                                                                 \n",
            " conv2d_2 (Conv2D)           (None, 3, 3, 64)          36928     \n",
            "                                                                 \n",
            " flatten (Flatten)           (None, 576)               0         \n",
            "                                                                 \n",
            " dense (Dense)               (None, 640)               369280    \n",
            "                                                                 \n",
            " dropout (Dropout)           (None, 640)               0         \n",
            "                                                                 \n",
            " dense_1 (Dense)             (None, 564)               361524    \n",
            "                                                                 \n",
            " dropout_1 (Dropout)         (None, 564)               0         \n",
            "                                                                 \n",
            " dense_2 (Dense)             (None, 64)                36160     \n",
            "                                                                 \n",
            " dense_3 (Dense)             (None, 64)                4160      \n",
            "                                                                 \n",
            " dense_4 (Dense)             (None, 2)                 130       \n",
            "                                                                 \n",
            "=================================================================\n",
            "Total params: 825,158\n",
            "Trainable params: 825,158\n",
            "Non-trainable params: 0\n",
            "_________________________________________________________________\n"
          ]
        }
      ]
    },
    {
      "cell_type": "code",
      "source": [
        "\n",
        "SeResNeXT, preprocess_input = Classifiers.get('seresnext50')\n",
        "base_model = SeResNeXT(include_top = False, input_shape=(28, 28, 3), weights='imagenet')\n",
        "x = base_model.output\n",
        "x = tf.keras.layers.GlobalAveragePooling2D()(x)\n",
        "predictions = tf.keras.layers.Dense(1, activation=\"sigmoid\")(x)\n",
        "model2 =tf.keras.Model(inputs=base_model.input, outputs=predictions)\n",
        "early_stop_callback=tf.keras.callbacks.EarlyStopping(\n",
        "    monitor='accuracy',\n",
        "    min_delta=0,\n",
        "    patience=7,\n",
        "    verbose=0,\n",
        "    mode='auto',\n",
        "    baseline=None,\n",
        "    restore_best_weights=True\n",
        ")\n",
        "tensorboard_callback=tf.keras.callbacks.TensorBoard(log_dir='/content/logs/resnext50_model/')\n",
        "model2.compile(loss='binary_crossentropy', \n",
        "              optimizer='adam', \n",
        "              metrics=['accuracy'])\n",
        "\n",
        "r = model2.fit(\n",
        "    x=X_train,y=y_train, \n",
        "    epochs=20,callbacks=[early_stop_callback,tensorboard_callback],validation_data=(np.array(X_test), np.array(y_test))\n",
        ")"
      ],
      "metadata": {
        "id": "QA2F5ERHRSE3",
        "colab": {
          "base_uri": "https://localhost:8080/"
        },
        "outputId": "b77c7979-8a5c-452d-ab1d-09a4ffc5a1e7"
      },
      "execution_count": 23,
      "outputs": [
        {
          "output_type": "stream",
          "name": "stdout",
          "text": [
            "Downloading data from https://github.com/qubvel/classification_models/releases/download/0.0.1/seresnext50_imagenet_1000_no_top.h5\n",
            "104679448/104679448 [==============================] - 4s 0us/step\n",
            "Epoch 1/20\n",
            "191/191 [==============================] - 71s 202ms/step - loss: 0.1444 - accuracy: 0.9455 - val_loss: 0.4084 - val_accuracy: 0.8912\n",
            "Epoch 2/20\n",
            "191/191 [==============================] - 30s 156ms/step - loss: 0.0481 - accuracy: 0.9865 - val_loss: 0.0500 - val_accuracy: 0.9901\n",
            "Epoch 3/20\n",
            "191/191 [==============================] - 29s 152ms/step - loss: 0.0179 - accuracy: 0.9943 - val_loss: 0.0672 - val_accuracy: 0.9857\n",
            "Epoch 4/20\n",
            "191/191 [==============================] - 29s 151ms/step - loss: 0.0240 - accuracy: 0.9926 - val_loss: 0.0443 - val_accuracy: 0.9879\n",
            "Epoch 5/20\n",
            "191/191 [==============================] - 30s 155ms/step - loss: 0.0152 - accuracy: 0.9949 - val_loss: 0.0417 - val_accuracy: 0.9901\n",
            "Epoch 6/20\n",
            "191/191 [==============================] - 30s 155ms/step - loss: 0.0042 - accuracy: 0.9992 - val_loss: 0.0303 - val_accuracy: 0.9923\n",
            "Epoch 7/20\n",
            "191/191 [==============================] - 29s 153ms/step - loss: 0.0260 - accuracy: 0.9923 - val_loss: 0.0215 - val_accuracy: 0.9956\n",
            "Epoch 8/20\n",
            "191/191 [==============================] - 30s 155ms/step - loss: 0.0130 - accuracy: 0.9959 - val_loss: 0.0580 - val_accuracy: 0.9890\n",
            "Epoch 9/20\n",
            "191/191 [==============================] - 29s 151ms/step - loss: 0.0312 - accuracy: 0.9921 - val_loss: 0.0136 - val_accuracy: 0.9956\n",
            "Epoch 10/20\n",
            "191/191 [==============================] - 30s 155ms/step - loss: 0.0056 - accuracy: 0.9985 - val_loss: 0.0101 - val_accuracy: 0.9967\n",
            "Epoch 11/20\n",
            "191/191 [==============================] - 29s 152ms/step - loss: 0.0058 - accuracy: 0.9984 - val_loss: 0.0610 - val_accuracy: 0.9912\n",
            "Epoch 12/20\n",
            "191/191 [==============================] - 29s 152ms/step - loss: 0.0023 - accuracy: 0.9992 - val_loss: 0.0238 - val_accuracy: 0.9934\n",
            "Epoch 13/20\n",
            "191/191 [==============================] - 29s 153ms/step - loss: 0.0035 - accuracy: 0.9987 - val_loss: 0.0454 - val_accuracy: 0.9835\n"
          ]
        }
      ]
    },
    {
      "cell_type": "code",
      "source": [
        "model2.evaluate(X_test,y_test)"
      ],
      "metadata": {
        "id": "bXGGox6jVroo",
        "colab": {
          "base_uri": "https://localhost:8080/"
        },
        "outputId": "f2c66ccf-fc98-4d70-d8f3-00a766510bf4"
      },
      "execution_count": 24,
      "outputs": [
        {
          "output_type": "stream",
          "name": "stdout",
          "text": [
            "29/29 [==============================] - 1s 43ms/step - loss: 0.0303 - accuracy: 0.9923\n"
          ]
        },
        {
          "output_type": "execute_result",
          "data": {
            "text/plain": [
              "[0.030253035947680473, 0.9923076629638672]"
            ]
          },
          "metadata": {},
          "execution_count": 24
        }
      ]
    },
    {
      "cell_type": "code",
      "source": [
        "# Note: The following confusion matrix code is a remix of Scikit-Learn's \n",
        "# plot_confusion_matrix function - https://scikit-learn.org/stable/modules/generated/sklearn.metrics.plot_confusion_matrix.html\n",
        "\n",
        "\n",
        "# Our function needs a different name to sklearn's plot_confusion_matrix\n",
        "def make_confusion_matrix(y_true, y_pred, classes=None, figsize=(10, 10), text_size=15, norm=False, savefig=False): \n",
        "  # Create the confustion matrix\n",
        "  cm = confusion_matrix(y_true, y_pred)\n",
        "  cm_norm = cm.astype(\"float\") / cm.sum(axis=1)[:, np.newaxis] # normalize it\n",
        "  n_classes = cm.shape[0] # find the number of classes we're dealing with\n",
        "\n",
        "  # Plot the figure and make it pretty\n",
        "  fig, ax = plt.subplots(figsize=figsize)\n",
        "  cax = ax.matshow(cm, cmap=plt.cm.Blues) # colors will represent how 'correct' a class is, darker == better\n",
        "  fig.colorbar(cax)\n",
        "\n",
        "  # Are there a list of classes?\n",
        "  if classes:\n",
        "    labels = classes\n",
        "  else:\n",
        "    labels = np.arange(cm.shape[0])\n",
        "  \n",
        "  # Label the axes\n",
        "  ax.set(title=\"Confusion Matrix\",\n",
        "         xlabel=\"Predicted label\",\n",
        "         ylabel=\"True label\",\n",
        "         xticks=np.arange(n_classes), # create enough axis slots for each class\n",
        "         yticks=np.arange(n_classes), \n",
        "         xticklabels=labels, # axes will labeled with class names (if they exist) or ints\n",
        "         yticklabels=labels)\n",
        "  \n",
        "  # Make x-axis labels appear on bottom\n",
        "  ax.xaxis.set_label_position(\"bottom\")\n",
        "  ax.xaxis.tick_bottom()\n",
        "\n",
        "  # Set the threshold for different colors\n",
        "  threshold = (cm.max() + cm.min()) / 2.\n",
        "\n",
        "  # Plot the text on each cell\n",
        "  for i, j in itertools.product(range(cm.shape[0]), range(cm.shape[1])):\n",
        "    if norm:\n",
        "      plt.text(j, i, f\"{cm[i, j]} ({cm_norm[i, j]*100:.1f}%)\",\n",
        "              horizontalalignment=\"center\",\n",
        "              color=\"white\" if cm[i, j] > threshold else \"black\",\n",
        "              size=text_size)\n",
        "    else:\n",
        "      plt.text(j, i, f\"{cm[i, j]}\",\n",
        "              horizontalalignment=\"center\",\n",
        "              color=\"white\" if cm[i, j] > threshold else \"black\",\n",
        "              size=text_size)\n",
        "\n",
        "  # Save the figure to the current working directory\n",
        "  if savefig:\n",
        "    fig.savefig(\"confusion_matrix.png\")"
      ],
      "metadata": {
        "id": "_qIkKEw6Qouh"
      },
      "execution_count": null,
      "outputs": []
    },
    {
      "cell_type": "code",
      "source": [
        "#After\n",
        "y_pred2=model2.predict(X_test)\n",
        "true_classes = y_test\n",
        "true_classes\n",
        "make_confusion_matrix(true_classes, y_pred2>0.5, classes=[\"Normal\",\"Tuberculosis\"])"
      ],
      "metadata": {
        "id": "g483HotHXMDO",
        "colab": {
          "base_uri": "https://localhost:8080/",
          "height": 591
        },
        "outputId": "e5f8ead8-2c89-481e-accf-36f1008b7147"
      },
      "execution_count": 25,
      "outputs": [
        {
          "output_type": "stream",
          "name": "stdout",
          "text": [
            "29/29 [==============================] - 6s 42ms/step\n"
          ]
        },
        {
          "output_type": "display_data",
          "data": {
            "text/plain": [
              "<Figure size 720x720 with 2 Axes>"
            ],
            "image/png": "[encoded data removed]"
          },
          "metadata": {
            "needs_background": "light"
          }
        }
      ]
    },
    {
      "cell_type": "code",
      "source": [
        "model2.save(\"/content/tuberculosis_model/\")"
      ],
      "metadata": {
        "id": "PVE-ALJk6I-4",
        "colab": {
          "base_uri": "https://localhost:8080/"
        },
        "outputId": "1d99ff02-fe4e-42cd-ef8f-a084a8b6c51b"
      },
      "execution_count": 26,
      "outputs": [
        {
          "output_type": "stream",
          "name": "stderr",
          "text": [
            "WARNING:absl:Found untraced functions such as _jit_compiled_convolution_op, _jit_compiled_convolution_op, _jit_compiled_convolution_op, _jit_compiled_convolution_op, _jit_compiled_convolution_op while saving (showing 5 of 581). These functions will not be directly callable after loading.\n"
          ]
        }
      ]
    },
    {
      "cell_type": "code",
      "source": [
        "ls -la /content"
      ],
      "metadata": {
        "id": "HjKeb-b47t1H",
        "colab": {
          "base_uri": "https://localhost:8080/"
        },
        "outputId": "8bc7a088-181a-4feb-bd6d-ab8ba90b9447"
      },
      "execution_count": 28,
      "outputs": [
        {
          "output_type": "stream",
          "name": "stdout",
          "text": [
            "total 679332\n",
            "drwxr-xr-x 1 root root      4096 Dec  8 11:31 \u001b[0m\u001b[01;34m.\u001b[0m/\n",
            "drwxr-xr-x 1 root root      4096 Dec  8 11:20 \u001b[01;34m..\u001b[0m/\n",
            "drwxr-xr-x 4 root root      4096 Dec  6 14:34 \u001b[01;34m.config\u001b[0m/\n",
            "drwxr-xr-x 3 root root      4096 Dec  8 11:22 \u001b[01;34mlogs\u001b[0m/\n",
            "drwxr-xr-x 1 root root      4096 Dec  6 14:35 \u001b[01;34msample_data\u001b[0m/\n",
            "drwxr-xr-x 4 root root      4096 Dec  8 11:21 \u001b[01;34mTB_Chest_Radiography_Database\u001b[0m/\n",
            "drwxr-xr-x 4 root root      4096 Dec  8 11:31 \u001b[01;34mtuberculosis_model\u001b[0m/\n",
            "-rw-r--r-- 1 root root 695602161 Dec  8 11:21 tuberculosis-tb-chest-xray-dataset.zip\n"
          ]
        }
      ]
    },
    {
      "cell_type": "markdown",
      "source": [
        "Sample CDSS with one picture"
      ],
      "metadata": {
        "id": "XqcEyOc9zNc4"
      }
    },
    {
      "cell_type": "code",
      "source": [
        "#Nomral\n",
        "#Tuber\n",
        "# Creating a sample predictor\n",
        "image_path=\"/content/TB_Chest_Radiography_Database/Tuberculosis/Tuberculosis-153.png\"\n",
        "img = cv2.imread(str(image_path))\n",
        "img_backup=cv2.imread(str(image_path))\n",
        "img = cv2.resize(img, (28,28))\n",
        "if img.shape[2] ==1:\n",
        "    img = np.dstack([img, img, img])\n",
        "img = cv2.cvtColor(img, cv2.COLOR_BGR2RGB)\n",
        "img=np.array(img)\n",
        "img = img/255\n",
        "img=np.array(img)\n",
        "img =img.reshape(-1,28,28,3)\n",
        "pred_res=model2.predict(img)\n",
        "import matplotlib.pyplot as plt\n",
        "if pred_res>0.5:\n",
        "  plt.figure(figsize = (5,5))\n",
        "  plt.imshow(img_backup, cmap='gray')\n",
        "  plt.title(\"Turberculosis\")\n",
        "else:\n",
        "  plt.figure(figsize = (5,5))\n",
        "  plt.imshow(img_backup, cmap='gray')\n",
        "  plt.title(\"Normal\")"
      ],
      "metadata": {
        "id": "bwpCL24Ths7i",
        "colab": {
          "base_uri": "https://localhost:8080/",
          "height": 353
        },
        "outputId": "27a1826e-0784-44b4-9e46-d1746cf1f58e"
      },
      "execution_count": 30,
      "outputs": [
        {
          "output_type": "stream",
          "name": "stdout",
          "text": [
            "1/1 [==============================] - 0s 480ms/step\n"
          ]
        },
        {
          "output_type": "display_data",
          "data": {
            "text/plain": [
              "<Figure size 360x360 with 1 Axes>"
            ],
            "image/png": "[encoded data removed]"
          },
          "metadata": {
            "needs_background": "light"
          }
        }
      ]
    },
    {
      "cell_type": "code",
      "source": [
        "\n",
        "drive.mount('/content/drive')"
      ],
      "metadata": {
        "id": "M09vUZHSBEQZ",
        "colab": {
          "base_uri": "https://localhost:8080/"
        },
        "outputId": "70ac4824-5aa8-4c1f-878c-c6bb0048aec5"
      },
      "execution_count": 31,
      "outputs": [
        {
          "output_type": "stream",
          "name": "stdout",
          "text": [
            "Mounted at /content/drive\n"
          ]
        }
      ]
    },
    {
      "cell_type": "code",
      "source": [
        "!zip -r \"/content/tuberculosis_model.zip\" \"/content/tuberculosis_model\""
      ],
      "metadata": {
        "id": "lH2EBlRwCfy7",
        "colab": {
          "base_uri": "https://localhost:8080/"
        },
        "outputId": "b00dd6d5-6ead-4c32-e70e-1a85dafa02bd"
      },
      "execution_count": 32,
      "outputs": [
        {
          "output_type": "stream",
          "name": "stdout",
          "text": [
            "  adding: content/tuberculosis_model/ (stored 0%)\n",
            "  adding: content/tuberculosis_model/assets/ (stored 0%)\n",
            "  adding: content/tuberculosis_model/saved_model.pb (deflated 93%)\n",
            "  adding: content/tuberculosis_model/keras_metadata.pb (deflated 95%)\n",
            "  adding: content/tuberculosis_model/variables/ (stored 0%)\n",
            "  adding: content/tuberculosis_model/variables/variables.index (deflated 84%)\n",
            "  adding: content/tuberculosis_model/variables/variables.data-00000-of-00001 (deflated 11%)\n"
          ]
        }
      ]
    },
    {
      "cell_type": "code",
      "source": [],
      "metadata": {
        "id": "TjQpAJpujSvc"
      },
      "execution_count": null,
      "outputs": []
    }
  ]
}