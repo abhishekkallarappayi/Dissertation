{
  "cells": [
    {
      "cell_type": "markdown",
      "metadata": {
        "id": "view-in-github",
        "colab_type": "text"
      },
      "source": [
        "<a href=\"https://colab.research.google.com/github/abhishekkallarappayi/Dissertation/blob/main/Pneumonia_Final_SE-ResNeXt50.ipynb\" target=\"_parent\"><img src=\"https://colab.research.google.com/assets/colab-badge.svg\" alt=\"Open In Colab\"/></a>"
      ]
    },
    {
      "cell_type": "code",
      "execution_count": 1,
      "metadata": {
        "colab": {
          "base_uri": "https://localhost:8080/"
        },
        "id": "UYzbT8wKd9k9",
        "outputId": "079975c6-2de4-4c28-e6a3-0fe041b8af2c"
      },
      "outputs": [
        {
          "output_type": "stream",
          "name": "stdout",
          "text": [
            "Looking in indexes: https://pypi.org/simple, https://us-python.pkg.dev/colab-wheels/public/simple/\n",
            "Collecting keras_applications\n",
            "  Downloading Keras_Applications-1.0.8-py3-none-any.whl (50 kB)\n",
            "\u001b[K     |████████████████████████████████| 50 kB 5.7 MB/s \n",
            "\u001b[?25hRequirement already satisfied: h5py in /usr/local/lib/python3.8/dist-packages (from keras_applications) (3.1.0)\n",
            "Requirement already satisfied: numpy>=1.9.1 in /usr/local/lib/python3.8/dist-packages (from keras_applications) (1.21.6)\n",
            "Installing collected packages: keras-applications\n",
            "Successfully installed keras-applications-1.0.8\n",
            "Looking in indexes: https://pypi.org/simple, https://us-python.pkg.dev/colab-wheels/public/simple/\n",
            "Requirement already satisfied: keras_preprocessing in /usr/local/lib/python3.8/dist-packages (1.1.2)\n",
            "Requirement already satisfied: six>=1.9.0 in /usr/local/lib/python3.8/dist-packages (from keras_preprocessing) (1.15.0)\n",
            "Requirement already satisfied: numpy>=1.9.1 in /usr/local/lib/python3.8/dist-packages (from keras_preprocessing) (1.21.6)\n",
            "Looking in indexes: https://pypi.org/simple, https://us-python.pkg.dev/colab-wheels/public/simple/\n",
            "Collecting image-classifiers\n",
            "  Downloading image_classifiers-1.0.0-py3-none-any.whl (19 kB)\n",
            "Requirement already satisfied: keras-applications<=1.0.8,>=1.0.7 in /usr/local/lib/python3.8/dist-packages (from image-classifiers) (1.0.8)\n",
            "Requirement already satisfied: h5py in /usr/local/lib/python3.8/dist-packages (from keras-applications<=1.0.8,>=1.0.7->image-classifiers) (3.1.0)\n",
            "Requirement already satisfied: numpy>=1.9.1 in /usr/local/lib/python3.8/dist-packages (from keras-applications<=1.0.8,>=1.0.7->image-classifiers) (1.21.6)\n",
            "Installing collected packages: image-classifiers\n",
            "Successfully installed image-classifiers-1.0.0\n"
          ]
        }
      ],
      "source": [
        "!pip install keras_applications\n",
        "!pip install keras_preprocessing\n",
        "!pip install image-classifiers"
      ]
    },
    {
      "cell_type": "code",
      "source": [
        "import zipfile\n",
        "import os\n",
        "import matplotlib.pyplot as plt\n",
        "from pathlib import Path\n",
        "import pandas as pd\n",
        "from tqdm import tqdm\n",
        "import cv2\n",
        "import numpy as np\n",
        "from keras.utils.np_utils import to_categorical\n",
        "from imblearn.over_sampling import SMOTE\n",
        "from sklearn.model_selection import train_test_split\n",
        "from tensorflow import keras\n",
        "from keras import layers\n",
        "import tensorflow as tf\n",
        "from keras import  layers, models\n",
        "import itertools\n",
        "import matplotlib.pyplot as plt\n",
        "import numpy as np\n",
        "from sklearn.metrics import confusion_matrix\n",
        "import keras\n",
        "import tensorflow as tf\n",
        "from classification_models.tfkeras import Classifiers"
      ],
      "metadata": {
        "id": "fHV-LYierirv"
      },
      "execution_count": 2,
      "outputs": []
    },
    {
      "cell_type": "code",
      "execution_count": 3,
      "metadata": {
        "id": "Q1LUDypCAPo_"
      },
      "outputs": [],
      "source": [
        "mkdir /root/.kaggle/"
      ]
    },
    {
      "cell_type": "code",
      "execution_count": 4,
      "metadata": {
        "id": "w_9uXmjxARav"
      },
      "outputs": [],
      "source": [
        "\n",
        "mv /kaggle.json /root/.kaggle"
      ]
    },
    {
      "cell_type": "code",
      "execution_count": 5,
      "metadata": {
        "colab": {
          "base_uri": "https://localhost:8080/"
        },
        "id": "iYMoXeaScOUm",
        "outputId": "6efc4224-a215-4023-9593-114afd72cca7"
      },
      "outputs": [
        {
          "output_type": "stream",
          "name": "stdout",
          "text": [
            "\u001b[0m\u001b[01;34m.\u001b[0m/  \u001b[01;34m..\u001b[0m/  kaggle.json\n"
          ]
        }
      ],
      "source": [
        "ls -a /root/.kaggle"
      ]
    },
    {
      "cell_type": "code",
      "execution_count": 6,
      "metadata": {
        "colab": {
          "base_uri": "https://localhost:8080/"
        },
        "id": "HqSrKac3Ajsg",
        "outputId": "41e15c46-a813-466d-f8e5-b1a84518dc48"
      },
      "outputs": [
        {
          "output_type": "stream",
          "name": "stdout",
          "text": [
            "Warning: Your Kaggle API key is readable by other users on this system! To fix this, you can run 'chmod 600 /root/.kaggle/kaggle.json'\n",
            "Downloading chest-xray-pneumonia.zip to /content\n",
            "100% 2.29G/2.29G [01:46<00:00, 24.2MB/s]\n",
            "100% 2.29G/2.29G [01:46<00:00, 23.1MB/s]\n"
          ]
        }
      ],
      "source": [
        "! kaggle datasets download 'paultimothymooney/chest-xray-pneumonia'"
      ]
    },
    {
      "cell_type": "code",
      "execution_count": 7,
      "metadata": {
        "id": "mKo3xzPAAmyH"
      },
      "outputs": [],
      "source": [
        "\n",
        "zipref=zipfile.ZipFile('/content/chest-xray-pneumonia.zip')"
      ]
    },
    {
      "cell_type": "code",
      "execution_count": 8,
      "metadata": {
        "id": "z29NS7obAsTC"
      },
      "outputs": [],
      "source": [
        "zipref.extractall(path=\"/content/\")"
      ]
    },
    {
      "cell_type": "markdown",
      "metadata": {
        "id": "T9X9DI76qI_0"
      },
      "source": [
        "Combining test and train sets"
      ]
    },
    {
      "cell_type": "code",
      "execution_count": 9,
      "metadata": {
        "id": "a_Z_2HUclT_F"
      },
      "outputs": [],
      "source": [
        "!mv /content/chest_xray/chest_xray/test/NORMAL/* /content/chest_xray/chest_xray/train/NORMAL/\n",
        "!mv /content/chest_xray/chest_xray/test/PNEUMONIA/* /content/chest_xray/chest_xray/train/PNEUMONIA/"
      ]
    },
    {
      "cell_type": "markdown",
      "metadata": {
        "id": "KIVOLClFiDBB"
      },
      "source": []
    },
    {
      "cell_type": "code",
      "execution_count": 10,
      "metadata": {
        "id": "c0vq8-l4AxY2",
        "colab": {
          "base_uri": "https://localhost:8080/",
          "height": 422
        },
        "outputId": "b086b6a3-740a-4373-ea68-7d4a191cb061"
      },
      "outputs": [
        {
          "output_type": "stream",
          "name": "stdout",
          "text": [
            "There are 1 files in /content/chest_xray/chest_xray/train/\n",
            "There are 4266 files in /content/chest_xray/chest_xray/train/PNEUMONIA\n",
            "There are 1576 files in /content/chest_xray/chest_xray/train/NORMAL\n",
            "['PNEUMONIA', 'NORMAL']\n"
          ]
        },
        {
          "output_type": "stream",
          "name": "stderr",
          "text": [
            "<ipython-input-10-1ba5957d78dc>:10: MatplotlibDeprecationWarning: Using a string of single character colors as a color sequence is deprecated. Use an explicit list instead.\n",
            "  plt.bar(names,count[1:],color=\"yb\")\n"
          ]
        },
        {
          "output_type": "execute_result",
          "data": {
            "text/plain": [
              "<BarContainer object of 2 artists>"
            ]
          },
          "metadata": {},
          "execution_count": 10
        },
        {
          "output_type": "display_data",
          "data": {
            "text/plain": [
              "<Figure size 432x288 with 1 Axes>"
            ],
            "image/png": "[encoded data removed]"
          },
          "metadata": {
            "needs_background": "light"
          }
        }
      ],
      "source": [
        "count=[]\n",
        "names=[]\n",
        "for root,dirname,file_name in os.walk('/content/chest_xray/chest_xray/train/'):\n",
        "  print(f'There are {len(file_name)} files in {root}')\n",
        "  names.extend(dirname)\n",
        "  count.append(len(file_name))\n",
        "names=[x for x in names if x]\n",
        "print(names)\n",
        "plt.title(\"Train Data\")\n",
        "plt.bar(names,count[1:],color=\"yb\")"
      ]
    },
    {
      "cell_type": "code",
      "execution_count": 11,
      "metadata": {
        "id": "jLzwiP4tCBUP",
        "colab": {
          "base_uri": "https://localhost:8080/",
          "height": 424
        },
        "outputId": "62b32dbf-04c4-4519-dc4c-acca3658d2f2"
      },
      "outputs": [
        {
          "output_type": "execute_result",
          "data": {
            "text/plain": [
              "                                                  image  label\n",
              "0     /content/chest_xray/chest_xray/train/NORMAL/NO...      0\n",
              "1     /content/chest_xray/chest_xray/train/PNEUMONIA...      1\n",
              "2     /content/chest_xray/chest_xray/train/PNEUMONIA...      1\n",
              "3     /content/chest_xray/chest_xray/train/PNEUMONIA...      1\n",
              "4     /content/chest_xray/chest_xray/train/NORMAL/NO...      0\n",
              "...                                                 ...    ...\n",
              "5835  /content/chest_xray/chest_xray/train/PNEUMONIA...      1\n",
              "5836  /content/chest_xray/chest_xray/train/PNEUMONIA...      1\n",
              "5837  /content/chest_xray/chest_xray/train/PNEUMONIA...      1\n",
              "5838  /content/chest_xray/chest_xray/train/NORMAL/IM...      0\n",
              "5839  /content/chest_xray/chest_xray/train/PNEUMONIA...      1\n",
              "\n",
              "[5840 rows x 2 columns]"
            ],
            "text/html": [
              "\n",
              "  <div id=\"df-a43f9c12-61c4-4d6b-8a79-0be9b16ce04d\">\n",
              "    <div class=\"colab-df-container\">\n",
              "      <div>\n",
              "<style scoped>\n",
              "    .dataframe tbody tr th:only-of-type {\n",
              "        vertical-align: middle;\n",
              "    }\n",
              "\n",
              "    .dataframe tbody tr th {\n",
              "        vertical-align: top;\n",
              "    }\n",
              "\n",
              "    .dataframe thead th {\n",
              "        text-align: right;\n",
              "    }\n",
              "</style>\n",
              "<table border=\"1\" class=\"dataframe\">\n",
              "  <thead>\n",
              "    <tr style=\"text-align: right;\">\n",
              "      <th></th>\n",
              "      <th>image</th>\n",
              "      <th>label</th>\n",
              "    </tr>\n",
              "  </thead>\n",
              "  <tbody>\n",
              "    <tr>\n",
              "      <th>0</th>\n",
              "      <td>/content/chest_xray/chest_xray/train/NORMAL/NO...</td>\n",
              "      <td>0</td>\n",
              "    </tr>\n",
              "    <tr>\n",
              "      <th>1</th>\n",
              "      <td>/content/chest_xray/chest_xray/train/PNEUMONIA...</td>\n",
              "      <td>1</td>\n",
              "    </tr>\n",
              "    <tr>\n",
              "      <th>2</th>\n",
              "      <td>/content/chest_xray/chest_xray/train/PNEUMONIA...</td>\n",
              "      <td>1</td>\n",
              "    </tr>\n",
              "    <tr>\n",
              "      <th>3</th>\n",
              "      <td>/content/chest_xray/chest_xray/train/PNEUMONIA...</td>\n",
              "      <td>1</td>\n",
              "    </tr>\n",
              "    <tr>\n",
              "      <th>4</th>\n",
              "      <td>/content/chest_xray/chest_xray/train/NORMAL/NO...</td>\n",
              "      <td>0</td>\n",
              "    </tr>\n",
              "    <tr>\n",
              "      <th>...</th>\n",
              "      <td>...</td>\n",
              "      <td>...</td>\n",
              "    </tr>\n",
              "    <tr>\n",
              "      <th>5835</th>\n",
              "      <td>/content/chest_xray/chest_xray/train/PNEUMONIA...</td>\n",
              "      <td>1</td>\n",
              "    </tr>\n",
              "    <tr>\n",
              "      <th>5836</th>\n",
              "      <td>/content/chest_xray/chest_xray/train/PNEUMONIA...</td>\n",
              "      <td>1</td>\n",
              "    </tr>\n",
              "    <tr>\n",
              "      <th>5837</th>\n",
              "      <td>/content/chest_xray/chest_xray/train/PNEUMONIA...</td>\n",
              "      <td>1</td>\n",
              "    </tr>\n",
              "    <tr>\n",
              "      <th>5838</th>\n",
              "      <td>/content/chest_xray/chest_xray/train/NORMAL/IM...</td>\n",
              "      <td>0</td>\n",
              "    </tr>\n",
              "    <tr>\n",
              "      <th>5839</th>\n",
              "      <td>/content/chest_xray/chest_xray/train/PNEUMONIA...</td>\n",
              "      <td>1</td>\n",
              "    </tr>\n",
              "  </tbody>\n",
              "</table>\n",
              "<p>5840 rows × 2 columns</p>\n",
              "</div>\n",
              "      <button class=\"colab-df-convert\" onclick=\"convertToInteractive('df-a43f9c12-61c4-4d6b-8a79-0be9b16ce04d')\"\n",
              "              title=\"Convert this dataframe to an interactive table.\"\n",
              "              style=\"display:none;\">\n",
              "        \n",
              "  <svg xmlns=\"http://www.w3.org/2000/svg\" height=\"24px\"viewBox=\"0 0 24 24\"\n",
              "       width=\"24px\">\n",
              "    <path d=\"M0 0h24v24H0V0z\" fill=\"none\"/>\n",
              "    <path d=\"M18.56 5.44l.94 2.06.94-2.06 2.06-.94-2.06-.94-.94-2.06-.94 2.06-2.06.94zm-11 1L8.5 8.5l.94-2.06 2.06-.94-2.06-.94L8.5 2.5l-.94 2.06-2.06.94zm10 10l.94 2.06.94-2.06 2.06-.94-2.06-.94-.94-2.06-.94 2.06-2.06.94z\"/><path d=\"M17.41 7.96l-1.37-1.37c-.4-.4-.92-.59-1.43-.59-.52 0-1.04.2-1.43.59L10.3 9.45l-7.72 7.72c-.78.78-.78 2.05 0 2.83L4 21.41c.39.39.9.59 1.41.59.51 0 1.02-.2 1.41-.59l7.78-7.78 2.81-2.81c.8-.78.8-2.07 0-2.86zM5.41 20L4 18.59l7.72-7.72 1.47 1.35L5.41 20z\"/>\n",
              "  </svg>\n",
              "      </button>\n",
              "      \n",
              "  <style>\n",
              "    .colab-df-container {\n",
              "      display:flex;\n",
              "      flex-wrap:wrap;\n",
              "      gap: 12px;\n",
              "    }\n",
              "\n",
              "    .colab-df-convert {\n",
              "      background-color: #E8F0FE;\n",
              "      border: none;\n",
              "      border-radius: 50%;\n",
              "      cursor: pointer;\n",
              "      display: none;\n",
              "      fill: #1967D2;\n",
              "      height: 32px;\n",
              "      padding: 0 0 0 0;\n",
              "      width: 32px;\n",
              "    }\n",
              "\n",
              "    .colab-df-convert:hover {\n",
              "      background-color: #E2EBFA;\n",
              "      box-shadow: 0px 1px 2px rgba(60, 64, 67, 0.3), 0px 1px 3px 1px rgba(60, 64, 67, 0.15);\n",
              "      fill: #174EA6;\n",
              "    }\n",
              "\n",
              "    [theme=dark] .colab-df-convert {\n",
              "      background-color: #3B4455;\n",
              "      fill: #D2E3FC;\n",
              "    }\n",
              "\n",
              "    [theme=dark] .colab-df-convert:hover {\n",
              "      background-color: #434B5C;\n",
              "      box-shadow: 0px 1px 3px 1px rgba(0, 0, 0, 0.15);\n",
              "      filter: drop-shadow(0px 1px 2px rgba(0, 0, 0, 0.3));\n",
              "      fill: #FFFFFF;\n",
              "    }\n",
              "  </style>\n",
              "\n",
              "      <script>\n",
              "        const buttonEl =\n",
              "          document.querySelector('#df-a43f9c12-61c4-4d6b-8a79-0be9b16ce04d button.colab-df-convert');\n",
              "        buttonEl.style.display =\n",
              "          google.colab.kernel.accessAllowed ? 'block' : 'none';\n",
              "\n",
              "        async function convertToInteractive(key) {\n",
              "          const element = document.querySelector('#df-a43f9c12-61c4-4d6b-8a79-0be9b16ce04d');\n",
              "          const dataTable =\n",
              "            await google.colab.kernel.invokeFunction('convertToInteractive',\n",
              "                                                     [key], {});\n",
              "          if (!dataTable) return;\n",
              "\n",
              "          const docLinkHtml = 'Like what you see? Visit the ' +\n",
              "            '<a target=\"_blank\" href=https://colab.research.google.com/notebooks/data_table.ipynb>data table notebook</a>'\n",
              "            + ' to learn more about interactive tables.';\n",
              "          element.innerHTML = '';\n",
              "          dataTable['output_type'] = 'display_data';\n",
              "          await google.colab.output.renderOutput(dataTable, element);\n",
              "          const docLink = document.createElement('div');\n",
              "          docLink.innerHTML = docLinkHtml;\n",
              "          element.appendChild(docLink);\n",
              "        }\n",
              "      </script>\n",
              "    </div>\n",
              "  </div>\n",
              "  "
            ]
          },
          "metadata": {},
          "execution_count": 11
        }
      ],
      "source": [
        "normal_path = '/content/chest_xray/chest_xray/train/NORMAL'\n",
        "pneumonia_path = '/content/chest_xray/chest_xray/train/PNEUMONIA'\n",
        "normal_images=Path(normal_path).glob('*.jpeg')\n",
        "pneumonia_images=Path(pneumonia_path).glob('*.jpeg')\n",
        "train_data=[]\n",
        "for img in normal_images:\n",
        "    train_data.append((img,0))\n",
        "for img in pneumonia_images:\n",
        "    train_data.append((img, 1))\n",
        "train_data = pd.DataFrame(train_data, columns=['image', 'label'],index=None)\n",
        "train_data = train_data.sample(frac=1.).reset_index(drop=True)\n",
        "train_data"
      ]
    },
    {
      "cell_type": "code",
      "execution_count": 12,
      "metadata": {
        "id": "VmBlBOkmHi0t",
        "colab": {
          "base_uri": "https://localhost:8080/"
        },
        "outputId": "054c1419-0891-4b1e-8658-765deccbc5c5"
      },
      "outputs": [
        {
          "output_type": "stream",
          "name": "stderr",
          "text": [
            "1575it [00:37, 41.58it/s]\n",
            "4265it [00:33, 125.61it/s]\n"
          ]
        },
        {
          "output_type": "stream",
          "name": "stdout",
          "text": [
            "Total number of validation examples:  (5840, 28, 28, 3)\n",
            "Total number of labels: (5840,)\n"
          ]
        }
      ],
      "source": [
        "normal_images=Path(normal_path).glob('*.jpeg')\n",
        "tuberculosis_images=Path(pneumonia_path).glob('*.jpeg')\n",
        "normal_path = '/content/chest_xray/chest_xray/train/NORMAL'\n",
        "pneumonia_path = '/content/chest_xray/chest_xray/train/PNEUMONIA'\n",
        "# Get the list of all the images\n",
        "normal_cases = Path(normal_path).glob('*.jpeg')\n",
        "pneumonia_cases =Path(pneumonia_path).glob('*.jpeg')\n",
        "train_data = []\n",
        "train_labels = []\n",
        "for img in tqdm(normal_cases):\n",
        "    img = cv2.imread(str(img))\n",
        "    img = cv2.resize(img, (28,28))\n",
        "    if img.shape[2] ==1:\n",
        "        img = np.dstack([img, img, img])\n",
        "    img = cv2.cvtColor(img, cv2.COLOR_BGR2RGB)\n",
        "    img=np.array(img)\n",
        "    img = img/255\n",
        "    label = 'normal'\n",
        "    train_data.append(img)\n",
        "    train_labels.append(label)\n",
        "                      \n",
        "# Pneumonia cases        \n",
        "for img in tqdm(pneumonia_cases):\n",
        "    img = cv2.imread(str(img))\n",
        "    img = cv2.resize(img, (28,28))\n",
        "    if img.shape[2] ==1:\n",
        "        img = np.dstack([img, img, img])\n",
        "    img = cv2.cvtColor(img, cv2.COLOR_BGR2RGB)\n",
        "    img=np.array(img)\n",
        "    img = img/255\n",
        "    label = 'Pneumonia'\n",
        "    train_data.append(img)\n",
        "    train_labels.append(label)\n",
        "    \n",
        "# Convert the list into numpy arrays\n",
        "\n",
        "train_data1 = np.array(train_data)\n",
        "train_labels1 = np.array(train_labels)\n",
        "\n",
        "print(\"Total number of validation examples: \", train_data1.shape)\n",
        "print(\"Total number of labels:\", train_labels1.shape)"
      ]
    },
    {
      "cell_type": "code",
      "execution_count": 13,
      "metadata": {
        "id": "3a1sK-NYM8xR"
      },
      "outputs": [],
      "source": [
        "train_labels1 = pd.DataFrame(train_labels1, columns=[ 'label'],index=None)\n",
        "train_labels1['label']=train_labels1['label'].map({'normal':0,'Pneumonia':1})"
      ]
    },
    {
      "cell_type": "code",
      "execution_count": 14,
      "metadata": {
        "id": "_LW3P83DNxyR",
        "colab": {
          "base_uri": "https://localhost:8080/"
        },
        "outputId": "d41230ca-27ba-4127-cbfe-0f3b5dac4f32"
      },
      "outputs": [
        {
          "output_type": "execute_result",
          "data": {
            "text/plain": [
              "(5840, 28, 28, 3)"
            ]
          },
          "metadata": {},
          "execution_count": 14
        }
      ],
      "source": [
        "#train_labels1.shape\n",
        "train_data1.shape\n"
      ]
    },
    {
      "cell_type": "markdown",
      "source": [
        "Implementing SMOTE"
      ],
      "metadata": {
        "id": "MiIl1VlHsPLv"
      }
    },
    {
      "cell_type": "code",
      "execution_count": 15,
      "metadata": {
        "id": "br18_yQaNEeQ"
      },
      "outputs": [],
      "source": [
        "\n",
        "smote = SMOTE()\n",
        "train_rows=len(train_data1)\n",
        "train_data1 = train_data1.reshape(train_rows,-1)\n",
        "train_data2, train_labels2 = smote.fit_resample(train_data1, train_labels1)"
      ]
    },
    {
      "cell_type": "code",
      "execution_count": 16,
      "metadata": {
        "id": "kK97fpVKOqYw",
        "colab": {
          "base_uri": "https://localhost:8080/",
          "height": 440
        },
        "outputId": "c4c44542-162f-4cfa-e83f-58385283dce4"
      },
      "outputs": [
        {
          "output_type": "stream",
          "name": "stdout",
          "text": [
            "0    4265\n",
            "1    4265\n",
            "Name: label, dtype: int64\n"
          ]
        },
        {
          "output_type": "stream",
          "name": "stderr",
          "text": [
            "<ipython-input-16-b664179f4653>:4: MatplotlibDeprecationWarning: Using a string of single character colors as a color sequence is deprecated. Use an explicit list instead.\n",
            "  plt.bar(labels.index,labels.values,color=\"yb\")\n"
          ]
        },
        {
          "output_type": "execute_result",
          "data": {
            "text/plain": [
              "([<matplotlib.axis.XTick at 0x7fa5ba764bb0>,\n",
              "  <matplotlib.axis.XTick at 0x7fa5ba764b80>],\n",
              " [Text(0, 0, 'Normal'), Text(0, 0, 'Pneumonia')])"
            ]
          },
          "metadata": {},
          "execution_count": 16
        },
        {
          "output_type": "display_data",
          "data": {
            "text/plain": [
              "<Figure size 432x288 with 1 Axes>"
            ],
            "image/png": "[encoded data removed]"
          },
          "metadata": {
            "needs_background": "light"
          }
        }
      ],
      "source": [
        "labels=train_labels2['label'].value_counts()\n",
        "print(labels)\n",
        "plt.title(\"Train Data\")\n",
        "plt.bar(labels.index,labels.values,color=\"yb\")\n",
        "plt.xticks(range(len(labels.index)), ['Normal', 'Pneumonia'])"
      ]
    },
    {
      "cell_type": "code",
      "execution_count": 17,
      "metadata": {
        "id": "Yb-g8ltQPc84"
      },
      "outputs": [],
      "source": [
        "train_data2 =train_data2.reshape(-1,28,28,3)"
      ]
    },
    {
      "cell_type": "code",
      "execution_count": 18,
      "metadata": {
        "id": "ccovA6tPPhtz"
      },
      "outputs": [],
      "source": [
        "X_train, X_test, y_train, y_test = train_test_split(train_data2, train_labels2, test_size=0.13, random_state=42)"
      ]
    },
    {
      "cell_type": "code",
      "execution_count": 19,
      "metadata": {
        "id": "Mz1NJMJmPkY7"
      },
      "outputs": [],
      "source": [
        "data_augmentation = keras.Sequential(\n",
        "  [\n",
        "    layers.RandomFlip(\"horizontal\",\n",
        "                      input_shape=(28,\n",
        "                                  28,\n",
        "                                  3)),\n",
        "    layers.RandomRotation(0.1),\n",
        "    layers.RandomZoom(0.1),\n",
        "      \n",
        "  ]\n",
        ")"
      ]
    },
    {
      "cell_type": "code",
      "execution_count": 20,
      "metadata": {
        "id": "esJvCxejP9pU",
        "colab": {
          "base_uri": "https://localhost:8080/"
        },
        "outputId": "393c86e6-efbc-460d-8953-cb501da18dbb"
      },
      "outputs": [
        {
          "output_type": "stream",
          "name": "stdout",
          "text": [
            "Model: \"sequential_1\"\n",
            "_________________________________________________________________\n",
            " Layer (type)                Output Shape              Param #   \n",
            "=================================================================\n",
            " sequential (Sequential)     (None, 28, 28, 3)         0         \n",
            "                                                                 \n",
            " conv2d (Conv2D)             (None, 26, 26, 28)        784       \n",
            "                                                                 \n",
            " max_pooling2d (MaxPooling2D  (None, 13, 13, 28)       0         \n",
            " )                                                               \n",
            "                                                                 \n",
            " conv2d_1 (Conv2D)           (None, 11, 11, 64)        16192     \n",
            "                                                                 \n",
            " max_pooling2d_1 (MaxPooling  (None, 5, 5, 64)         0         \n",
            " 2D)                                                             \n",
            "                                                                 \n",
            " conv2d_2 (Conv2D)           (None, 3, 3, 64)          36928     \n",
            "                                                                 \n",
            "=================================================================\n",
            "Total params: 53,904\n",
            "Trainable params: 53,904\n",
            "Non-trainable params: 0\n",
            "_________________________________________________________________\n"
          ]
        }
      ],
      "source": [
        "model = models.Sequential([\n",
        "    data_augmentation,\n",
        "    layers.Conv2D(28, (3, 3), activation='relu', input_shape=(28, 28, 3)) ,\n",
        "    layers.MaxPooling2D((2, 2)),\n",
        "    layers.Conv2D(64, (3, 3), activation='relu'),\n",
        "    layers.MaxPooling2D((2, 2)),\n",
        "    layers.Conv2D(64, (3, 3), activation='relu')\n",
        "    \n",
        "])\n",
        "\n",
        "model.summary()"
      ]
    },
    {
      "cell_type": "code",
      "execution_count": 21,
      "metadata": {
        "id": "D2H_2V07P-gI",
        "colab": {
          "base_uri": "https://localhost:8080/"
        },
        "outputId": "daf01a23-36f0-4c95-cedf-f50f096840b9"
      },
      "outputs": [
        {
          "output_type": "stream",
          "name": "stdout",
          "text": [
            "Model: \"sequential_1\"\n",
            "_________________________________________________________________\n",
            " Layer (type)                Output Shape              Param #   \n",
            "=================================================================\n",
            " sequential (Sequential)     (None, 28, 28, 3)         0         \n",
            "                                                                 \n",
            " conv2d (Conv2D)             (None, 26, 26, 28)        784       \n",
            "                                                                 \n",
            " max_pooling2d (MaxPooling2D  (None, 13, 13, 28)       0         \n",
            " )                                                               \n",
            "                                                                 \n",
            " conv2d_1 (Conv2D)           (None, 11, 11, 64)        16192     \n",
            "                                                                 \n",
            " max_pooling2d_1 (MaxPooling  (None, 5, 5, 64)         0         \n",
            " 2D)                                                             \n",
            "                                                                 \n",
            " conv2d_2 (Conv2D)           (None, 3, 3, 64)          36928     \n",
            "                                                                 \n",
            " flatten (Flatten)           (None, 576)               0         \n",
            "                                                                 \n",
            " dense (Dense)               (None, 640)               369280    \n",
            "                                                                 \n",
            " dropout (Dropout)           (None, 640)               0         \n",
            "                                                                 \n",
            " dense_1 (Dense)             (None, 64)                41024     \n",
            "                                                                 \n",
            " dropout_1 (Dropout)         (None, 64)                0         \n",
            "                                                                 \n",
            " dense_2 (Dense)             (None, 64)                4160      \n",
            "                                                                 \n",
            " dense_3 (Dense)             (None, 64)                4160      \n",
            "                                                                 \n",
            " dense_4 (Dense)             (None, 2)                 130       \n",
            "                                                                 \n",
            "=================================================================\n",
            "Total params: 472,658\n",
            "Trainable params: 472,658\n",
            "Non-trainable params: 0\n",
            "_________________________________________________________________\n"
          ]
        }
      ],
      "source": [
        "model.add(layers.Flatten())\n",
        "model.add(layers.Dense(640, activation='tanh'))\n",
        "model.add(layers.Dropout(0.5))\n",
        "model.add(layers.Dense(64, activation='tanh'))\n",
        "model.add(layers.Dropout(0.5))\n",
        "model.add(layers.Dense(64, activation='tanh'))\n",
        "model.add(layers.Dense(64, activation='sigmoid'))\n",
        "model.add(layers.Dense(2))\n",
        "model.summary()"
      ]
    },
    {
      "cell_type": "code",
      "execution_count": 23,
      "metadata": {
        "id": "M42FhA62QEJS",
        "colab": {
          "base_uri": "https://localhost:8080/"
        },
        "outputId": "7e936e04-2dd6-45d3-d1c9-64c898a7a604"
      },
      "outputs": [
        {
          "output_type": "stream",
          "name": "stdout",
          "text": [
            "Epoch 1/20\n",
            "232/232 [==============================] - 15s 49ms/step - loss: 0.6973 - accuracy: 0.5053 - val_loss: 0.7184 - val_accuracy: 0.4779\n",
            "Epoch 2/20\n",
            "232/232 [==============================] - 5s 21ms/step - loss: 0.6978 - accuracy: 0.5005 - val_loss: 0.6924 - val_accuracy: 0.5221\n",
            "Epoch 3/20\n",
            "232/232 [==============================] - 5s 21ms/step - loss: 0.6961 - accuracy: 0.4924 - val_loss: 0.6933 - val_accuracy: 0.5221\n",
            "Epoch 4/20\n",
            "232/232 [==============================] - 5s 21ms/step - loss: 0.6959 - accuracy: 0.4941 - val_loss: 0.7131 - val_accuracy: 0.4779\n",
            "Epoch 5/20\n",
            "232/232 [==============================] - 6s 26ms/step - loss: 0.6950 - accuracy: 0.5103 - val_loss: 0.6923 - val_accuracy: 0.5221\n",
            "Epoch 6/20\n",
            "232/232 [==============================] - 5s 21ms/step - loss: 0.6954 - accuracy: 0.5080 - val_loss: 0.6956 - val_accuracy: 0.4779\n",
            "Epoch 7/20\n",
            "232/232 [==============================] - 5s 21ms/step - loss: 0.6967 - accuracy: 0.4912 - val_loss: 0.6922 - val_accuracy: 0.5221\n",
            "Epoch 8/20\n",
            "232/232 [==============================] - 5s 21ms/step - loss: 0.6957 - accuracy: 0.5020 - val_loss: 0.6935 - val_accuracy: 0.4779\n",
            "Epoch 9/20\n",
            "232/232 [==============================] - 5s 21ms/step - loss: 0.6952 - accuracy: 0.4959 - val_loss: 0.6926 - val_accuracy: 0.5221\n"
          ]
        },
        {
          "output_type": "execute_result",
          "data": {
            "text/plain": [
              "<keras.callbacks.History at 0x7fa6334ce2e0>"
            ]
          },
          "metadata": {},
          "execution_count": 23
        }
      ],
      "source": [
        "model.compile(optimizer='adam',\n",
        "              loss=tf.keras.losses.SparseCategoricalCrossentropy(from_logits=True),\n",
        "              metrics=['accuracy'])\n",
        "early_stop_callback=tf.keras.callbacks.EarlyStopping(\n",
        "    monitor='val_accuracy',\n",
        "    min_delta=0,\n",
        "    patience=7,\n",
        "    verbose=0,\n",
        "    mode='auto',\n",
        "    baseline=None,\n",
        "    restore_best_weights=True\n",
        ")\n",
        "tensorboard_callback=tf.keras.callbacks.TensorBoard(log_dir='/content/logs/92p6accuracy_model/')\n",
        "model.fit(np.array(X_train), np.array(y_train), epochs=20, validation_data=(np.array(X_test), np.array(y_test)),callbacks=[early_stop_callback,tensorboard_callback])"
      ]
    },
    {
      "cell_type": "code",
      "execution_count": 24,
      "metadata": {
        "id": "_qIkKEw6Qouh"
      },
      "outputs": [],
      "source": [
        "# Note: The following confusion matrix code is a remix of Scikit-Learn's \n",
        "# plot_confusion_matrix function - https://scikit-learn.org/stable/modules/generated/sklearn.metrics.plot_confusion_matrix.html\n",
        "# Our function needs a different name to sklearn's plot_confusion_matrix\n",
        "def make_confusion_matrix(y_true, y_pred, classes=None, figsize=(10, 10), text_size=15, norm=False, savefig=False): \n",
        " \n",
        "  # Create the confustion matrix\n",
        "  cm = confusion_matrix(y_true, y_pred)\n",
        "  cm_norm = cm.astype(\"float\") / cm.sum(axis=1)[:, np.newaxis] # normalize it\n",
        "  n_classes = cm.shape[0] # find the number of classes we're dealing with\n",
        "\n",
        "  # Plot the figure and make it pretty\n",
        "  fig, ax = plt.subplots(figsize=figsize)\n",
        "  cax = ax.matshow(cm, cmap=plt.cm.Blues) # colors will represent how 'correct' a class is, darker == better\n",
        "  fig.colorbar(cax)\n",
        "\n",
        "  # Are there a list of classes?\n",
        "  if classes:\n",
        "    labels = classes\n",
        "  else:\n",
        "    labels = np.arange(cm.shape[0])\n",
        "  \n",
        "  # Label the axes\n",
        "  ax.set(title=\"Confusion Matrix\",\n",
        "         xlabel=\"Predicted label\",\n",
        "         ylabel=\"True label\",\n",
        "         xticks=np.arange(n_classes), # create enough axis slots for each class\n",
        "         yticks=np.arange(n_classes), \n",
        "         xticklabels=labels, # axes will labeled with class names (if they exist) or ints\n",
        "         yticklabels=labels)\n",
        "  \n",
        "  # Make x-axis labels appear on bottom\n",
        "  ax.xaxis.set_label_position(\"bottom\")\n",
        "  ax.xaxis.tick_bottom()\n",
        "\n",
        "  # Set the threshold for different colors\n",
        "  threshold = (cm.max() + cm.min()) / 2.\n",
        "\n",
        "  # Plot the text on each cell\n",
        "  for i, j in itertools.product(range(cm.shape[0]), range(cm.shape[1])):\n",
        "    if norm:\n",
        "      plt.text(j, i, f\"{cm[i, j]} ({cm_norm[i, j]*100:.1f}%)\",\n",
        "              horizontalalignment=\"center\",\n",
        "              color=\"white\" if cm[i, j] > threshold else \"black\",\n",
        "              size=text_size)\n",
        "    else:\n",
        "      plt.text(j, i, f\"{cm[i, j]}\",\n",
        "              horizontalalignment=\"center\",\n",
        "              color=\"white\" if cm[i, j] > threshold else \"black\",\n",
        "              size=text_size)\n",
        "\n",
        "  # Save the figure to the current working directory\n",
        "  if savefig:\n",
        "    fig.savefig(\"confusion_matrix.png\")"
      ]
    },
    {
      "cell_type": "code",
      "execution_count": 25,
      "metadata": {
        "id": "x105dwSCQtoo",
        "colab": {
          "base_uri": "https://localhost:8080/",
          "height": 597
        },
        "outputId": "d0dcf392-5ccc-4bbf-985b-831a6369fda5"
      },
      "outputs": [
        {
          "output_type": "stream",
          "name": "stdout",
          "text": [
            "35/35 [==============================] - 0s 2ms/step\n"
          ]
        },
        {
          "output_type": "display_data",
          "data": {
            "text/plain": [
              "<Figure size 720x720 with 2 Axes>"
            ],
            "image/png": "[encoded data removed]"
          },
          "metadata": {
            "needs_background": "light"
          }
        }
      ],
      "source": [
        "#After\n",
        "y_pred=model.predict(X_test)\n",
        "true_classes = y_test\n",
        "true_classes\n",
        "y_pred\n",
        "preds_classes = np.argmax(y_pred, axis=-1)\n",
        "#print(preds_classes)\n",
        "make_confusion_matrix(true_classes, preds_classes, classes=[\"Normal\",\"Pneumonia\"])"
      ]
    },
    {
      "cell_type": "code",
      "execution_count": 26,
      "metadata": {
        "id": "QA2F5ERHRSE3",
        "colab": {
          "base_uri": "https://localhost:8080/"
        },
        "outputId": "161e8462-783d-4c7d-d9ee-54f4a2c1a6c8"
      },
      "outputs": [
        {
          "output_type": "stream",
          "name": "stdout",
          "text": [
            "Downloading data from https://github.com/qubvel/classification_models/releases/download/0.0.1/seresnext50_imagenet_1000_no_top.h5\n",
            "104679448/104679448 [==============================] - 14s 0us/step\n",
            "Epoch 1/20\n",
            "232/232 [==============================] - 75s 190ms/step - loss: 0.2352 - accuracy: 0.9104 - val_loss: 0.3295 - val_accuracy: 0.9179\n",
            "Epoch 2/20\n",
            "232/232 [==============================] - 37s 159ms/step - loss: 0.0946 - accuracy: 0.9678 - val_loss: 0.2072 - val_accuracy: 0.9648\n",
            "Epoch 3/20\n",
            "232/232 [==============================] - 36s 156ms/step - loss: 0.0675 - accuracy: 0.9760 - val_loss: 0.1554 - val_accuracy: 0.9612\n",
            "Epoch 4/20\n",
            "232/232 [==============================] - 36s 157ms/step - loss: 0.0718 - accuracy: 0.9733 - val_loss: 0.0871 - val_accuracy: 0.9757\n",
            "Epoch 5/20\n",
            "232/232 [==============================] - 34s 146ms/step - loss: 0.0503 - accuracy: 0.9826 - val_loss: 0.2026 - val_accuracy: 0.9414\n",
            "Epoch 6/20\n",
            "232/232 [==============================] - 34s 146ms/step - loss: 0.0366 - accuracy: 0.9884 - val_loss: 0.0858 - val_accuracy: 0.9711\n",
            "Epoch 7/20\n",
            "232/232 [==============================] - 35s 151ms/step - loss: 0.0339 - accuracy: 0.9890 - val_loss: 0.1820 - val_accuracy: 0.9279\n",
            "Epoch 8/20\n",
            "232/232 [==============================] - 35s 151ms/step - loss: 0.0333 - accuracy: 0.9895 - val_loss: 0.0726 - val_accuracy: 0.9757\n",
            "Epoch 9/20\n",
            "232/232 [==============================] - 34s 148ms/step - loss: 0.0307 - accuracy: 0.9895 - val_loss: 0.1350 - val_accuracy: 0.9603\n",
            "Epoch 10/20\n",
            "232/232 [==============================] - 34s 148ms/step - loss: 0.0311 - accuracy: 0.9904 - val_loss: 0.1108 - val_accuracy: 0.9693\n",
            "Epoch 11/20\n",
            "232/232 [==============================] - 34s 147ms/step - loss: 0.0338 - accuracy: 0.9895 - val_loss: 0.0998 - val_accuracy: 0.9711\n"
          ]
        }
      ],
      "source": [
        "\n",
        "SeResNeXT, preprocess_input = Classifiers.get('seresnext50')\n",
        "base_model = SeResNeXT(include_top = False, input_shape=(28, 28, 3), weights='imagenet')\n",
        "x = base_model.output\n",
        "x = tf.keras.layers.GlobalAveragePooling2D()(x)\n",
        "predictions = tf.keras.layers.Dense(1, activation=\"sigmoid\")(x)\n",
        "model2 =tf.keras.Model(inputs=base_model.input, outputs=predictions)\n",
        "early_stop_callback=tf.keras.callbacks.EarlyStopping(\n",
        "    monitor='val_accuracy',\n",
        "    min_delta=0,\n",
        "    patience=7,\n",
        "    verbose=0,\n",
        "    mode='auto',\n",
        "    baseline=None,\n",
        "    restore_best_weights=True\n",
        ")\n",
        "tensorboard_callback=tf.keras.callbacks.TensorBoard(log_dir='/content/logs/resnext50_model/')\n",
        "model2.compile(loss='binary_crossentropy', \n",
        "              optimizer='adam', \n",
        "              metrics=['accuracy'])\n",
        "r = model2.fit(\n",
        "    x=X_train,y=y_train, \n",
        "    epochs=20,callbacks=[early_stop_callback,tensorboard_callback],validation_data=(np.array(X_test), np.array(y_test))\n",
        ")"
      ]
    },
    {
      "cell_type": "code",
      "execution_count": 27,
      "metadata": {
        "id": "bXGGox6jVroo",
        "colab": {
          "base_uri": "https://localhost:8080/"
        },
        "outputId": "0da8d782-f59b-4fcd-f019-75d58fa07f16"
      },
      "outputs": [
        {
          "output_type": "stream",
          "name": "stdout",
          "text": [
            "35/35 [==============================] - 1s 42ms/step - loss: 0.0871 - accuracy: 0.9757\n"
          ]
        },
        {
          "output_type": "execute_result",
          "data": {
            "text/plain": [
              "[0.08713033050298691, 0.9756537675857544]"
            ]
          },
          "metadata": {},
          "execution_count": 27
        }
      ],
      "source": [
        "model2.evaluate(X_test,y_test)"
      ]
    },
    {
      "cell_type": "code",
      "execution_count": 28,
      "metadata": {
        "id": "g483HotHXMDO",
        "colab": {
          "base_uri": "https://localhost:8080/",
          "height": 591
        },
        "outputId": "2707ab48-4d7f-4f07-b64f-e8069e444826"
      },
      "outputs": [
        {
          "output_type": "stream",
          "name": "stdout",
          "text": [
            "35/35 [==============================] - 6s 41ms/step\n"
          ]
        },
        {
          "output_type": "display_data",
          "data": {
            "text/plain": [
              "<Figure size 720x720 with 2 Axes>"
            ],
            "image/png": "[encoded data removed]"
          },
          "metadata": {
            "needs_background": "light"
          }
        }
      ],
      "source": [
        "#After\n",
        "y_pred2=model2.predict(X_test)\n",
        "true_classes = y_test\n",
        "true_classes\n",
        "make_confusion_matrix(true_classes, y_pred2>0.5, classes=[\"Normal\",\"Pneumonia\"])"
      ]
    },
    {
      "cell_type": "code",
      "execution_count": 29,
      "metadata": {
        "id": "3Gw_khSnAgv-",
        "colab": {
          "base_uri": "https://localhost:8080/"
        },
        "outputId": "91e170ad-b9e8-40ba-8cdf-5b6f50be944c"
      },
      "outputs": [
        {
          "output_type": "stream",
          "name": "stderr",
          "text": [
            "WARNING:absl:Found untraced functions such as _jit_compiled_convolution_op, _jit_compiled_convolution_op, _jit_compiled_convolution_op, _jit_compiled_convolution_op, _jit_compiled_convolution_op while saving (showing 5 of 581). These functions will not be directly callable after loading.\n"
          ]
        }
      ],
      "source": [
        "model2.save(\"/content/pneumonia_model/\")"
      ]
    },
    {
      "cell_type": "code",
      "execution_count": 30,
      "metadata": {
        "id": "YBa6yq4AxX13",
        "colab": {
          "base_uri": "https://localhost:8080/"
        },
        "outputId": "3e62202f-f7bf-470b-c39b-933db37029c3"
      },
      "outputs": [
        {
          "output_type": "stream",
          "name": "stdout",
          "text": [
            "  adding: content/pneumonia_model/ (stored 0%)\n",
            "  adding: content/pneumonia_model/assets/ (stored 0%)\n",
            "  adding: content/pneumonia_model/saved_model.pb (deflated 93%)\n",
            "  adding: content/pneumonia_model/keras_metadata.pb (deflated 95%)\n",
            "  adding: content/pneumonia_model/variables/ (stored 0%)\n",
            "  adding: content/pneumonia_model/variables/variables.index (deflated 84%)\n",
            "  adding: content/pneumonia_model/variables/variables.data-00000-of-00001 (deflated 12%)\n"
          ]
        }
      ],
      "source": [
        "!zip -r \"/content/pneumonia_model.zip\" \"/content/pneumonia_model\""
      ]
    },
    {
      "cell_type": "markdown",
      "source": [
        "Sample model with one picture"
      ],
      "metadata": {
        "id": "WT216qyUyqmz"
      }
    },
    {
      "cell_type": "code",
      "execution_count": 32,
      "metadata": {
        "id": "bwpCL24Ths7i",
        "colab": {
          "base_uri": "https://localhost:8080/",
          "height": 270
        },
        "outputId": "f9392797-2af6-4757-cda0-30fcdebb322a"
      },
      "outputs": [
        {
          "output_type": "stream",
          "name": "stdout",
          "text": [
            "1/1 [==============================] - 1s 754ms/step\n"
          ]
        },
        {
          "output_type": "display_data",
          "data": {
            "text/plain": [
              "<Figure size 360x360 with 1 Axes>"
            ],
            "image/png": "[encoded data removed]"
          },
          "metadata": {
            "needs_background": "light"
          }
        }
      ],
      "source": [
        "#Nomral\n",
        "image_path='/content/chest_xray/chest_xray/val/PNEUMONIA/person1954_bacteria_4886.jpeg'\n",
        "img = cv2.imread(str(image_path))\n",
        "img_backup=cv2.imread(str(image_path))\n",
        "img = cv2.resize(img, (28,28))\n",
        "if img.shape[2] ==1:\n",
        "    img = np.dstack([img, img, img])\n",
        "img = cv2.cvtColor(img, cv2.COLOR_BGR2RGB)\n",
        "img=np.array(img)\n",
        "img = img/255\n",
        "img=np.array(img)\n",
        "img =img.reshape(-1,28,28,3)\n",
        "pred_res=model2.predict(img)\n",
        "if pred_res>0.5:\n",
        "  plt.figure(figsize = (5,5))\n",
        "  plt.imshow(img_backup, cmap='gray')\n",
        "  plt.title(\"Pneumonia\")\n",
        "else:\n",
        "  plt.figure(figsize = (5,5))\n",
        "  plt.imshow(img_backup, cmap='gray')\n",
        "  plt.title(\"Normal\")"
      ]
    },
    {
      "cell_type": "code",
      "source": [],
      "metadata": {
        "id": "G3N6QqwVyBYd"
      },
      "execution_count": null,
      "outputs": []
    }
  ],
  "metadata": {
    "accelerator": "GPU",
    "colab": {
      "provenance": [],
      "include_colab_link": true
    },
    "gpuClass": "standard",
    "kernelspec": {
      "display_name": "Python 3",
      "name": "python3"
    },
    "language_info": {
      "name": "python"
    }
  },
  "nbformat": 4,
  "nbformat_minor": 0
}